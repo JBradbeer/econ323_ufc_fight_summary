{
 "cells": [
  {
   "cell_type": "code",
   "execution_count": 1,
   "metadata": {},
   "outputs": [],
   "source": [
    "import pandas as pd\n",
    "import warnings\n",
    "from datetime import datetime\n",
    "warnings.filterwarnings('ignore')"
   ]
  },
  {
   "cell_type": "code",
   "execution_count": 2,
   "metadata": {},
   "outputs": [],
   "source": [
    "df = pd.read_csv('/home/jupyter/ECON 323/Final Project/Data/ufc-master-trim.csv',header=1, engine='python')\n",
    "cols = pd.read_csv('/home/jupyter/ECON 323/Final Project/Data/col_headers.csv', header=None)\n",
    "\n",
    "cols.rename(columns={0:'RB', 1:'Raw'}, inplace=True)"
   ]
  },
  {
   "cell_type": "code",
   "execution_count": 3,
   "metadata": {},
   "outputs": [],
   "source": [
    "df.date_dt = pd.to_datetime(df.date, infer_datetime_format=True)\n",
    "df.date = df.date_dt.apply(lambda x: datetime.strftime(x ,'%b %d, %Y'))"
   ]
  },
  {
   "cell_type": "code",
   "execution_count": 4,
   "metadata": {},
   "outputs": [],
   "source": [
    "# create non-fighter specific variables\n",
    "f_variables = cols.Raw[cols.Raw.notnull()].tolist()\n",
    "f_variables = f_variables + ['R_fighter', 'B_fighter', 'date_dt']\n",
    "\n",
    "# create fighter specific variables\n",
    "def letter_var(fighter):\n",
    "    variables = []\n",
    "    for var in cols.RB[cols.RB.notnull()].tolist():\n",
    "        variable = fighter + var\n",
    "        variables.append(variable)\n",
    "         \n",
    "    return variables\n",
    "\n",
    "r_variables = letter_var('R')\n",
    "b_variables = letter_var('B')\n",
    "\n",
    "\n",
    "# create a new \"clean\" dataframe\n",
    "df_f = df.reindex(columns = f_variables)\n",
    "df_r = df.reindex(columns = r_variables)\n",
    "df_b = df.reindex(columns = b_variables)\n",
    "\n",
    "\n",
    "# create new column names, cleaning beginning '_'\n",
    "trim_cols = []\n",
    "for x in cols.RB[cols.RB.notnull()].tolist():\n",
    "    trim_cols.append(x[1:])\n",
    "\n",
    "\n",
    "# replace certain keys with better names\n",
    "lower_var = []; \n",
    "for x in f_variables:\n",
    "    lower_var.append(x.lower())\n",
    "\n",
    "for n, i in enumerate(trim_cols):\n",
    "    if   i == 'match_weightclass_rank':  \n",
    "        trim_cols[n] = 'rank'\n",
    "    elif i[-5:] == '_bout':              \n",
    "        trim_cols[n] = i[:-5]\n",
    "\n",
    "        \n",
    "df_f.columns = lower_var\n",
    "df_r.columns = trim_cols\n",
    "df_b.columns = trim_cols"
   ]
  },
  {
   "cell_type": "code",
   "execution_count": 5,
   "metadata": {},
   "outputs": [],
   "source": [
    "df_f.date_dt = df.date_dt"
   ]
  },
  {
   "cell_type": "code",
   "execution_count": 7,
   "metadata": {},
   "outputs": [],
   "source": [
    "df_f.to_csv('/home/jupyter/ECON 323/Final Project/Data/fights_f.csv')\n",
    "df_r.to_csv('/home/jupyter/ECON 323/Final Project/Data/fights_r.csv')\n",
    "df_b.to_csv('/home/jupyter/ECON 323/Final Project/Data/fights_b.csv')"
   ]
  },
  {
   "cell_type": "code",
   "execution_count": null,
   "metadata": {},
   "outputs": [],
   "source": []
  }
 ],
 "metadata": {
  "kernelspec": {
   "display_name": "Python 3",
   "language": "python",
   "name": "python3"
  },
  "language_info": {
   "codemirror_mode": {
    "name": "ipython",
    "version": 3
   },
   "file_extension": ".py",
   "mimetype": "text/x-python",
   "name": "python",
   "nbconvert_exporter": "python",
   "pygments_lexer": "ipython3",
   "version": "3.8.5"
  }
 },
 "nbformat": 4,
 "nbformat_minor": 4
}
